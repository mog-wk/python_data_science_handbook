{
 "cells": [
  {
   "cell_type": "code",
   "execution_count": 7,
   "id": "5b0ec3c1",
   "metadata": {},
   "outputs": [],
   "source": [
    "import numpy as np\n",
    "import array"
   ]
  },
  {
   "cell_type": "code",
   "execution_count": 8,
   "id": "2ae1f026",
   "metadata": {},
   "outputs": [
    {
     "data": {
      "text/plain": [
       "array('i', [1, 2, 3, 4])"
      ]
     },
     "execution_count": 8,
     "metadata": {},
     "output_type": "execute_result"
    }
   ],
   "source": [
    "array.array('i', [1, 2, 3, 4])"
   ]
  },
  {
   "cell_type": "code",
   "execution_count": 9,
   "id": "1608c956",
   "metadata": {},
   "outputs": [
    {
     "data": {
      "text/plain": [
       "array([1, 2, 3, 4, 5, 6, 7, 8])"
      ]
     },
     "execution_count": 9,
     "metadata": {},
     "output_type": "execute_result"
    }
   ],
   "source": [
    "# creates np array from list\n",
    "np.array([1, 2, 3, 4, 5, 6, 7, 8])"
   ]
  },
  {
   "cell_type": "code",
   "execution_count": 10,
   "id": "75049d0c",
   "metadata": {},
   "outputs": [
    {
     "data": {
      "text/plain": [
       "array([0, 0, 0, 0, 0, 0, 0, 0, 0, 0])"
      ]
     },
     "execution_count": 10,
     "metadata": {},
     "output_type": "execute_result"
    }
   ],
   "source": [
    "# creates np array of 10 zeros\n",
    "np.zeros(10, dtype=int)"
   ]
  },
  {
   "cell_type": "code",
   "execution_count": 12,
   "id": "fdb3fbb2",
   "metadata": {},
   "outputs": [
    {
     "data": {
      "text/plain": [
       "array([[1, 1, 1, 1, 1],\n",
       "       [1, 1, 1, 1, 1],\n",
       "       [1, 1, 1, 1, 1]])"
      ]
     },
     "execution_count": 12,
     "metadata": {},
     "output_type": "execute_result"
    }
   ],
   "source": [
    "# creates np array with dim. 3x5 filled with ones\n",
    "np.ones((3, 5), dtype=int)"
   ]
  },
  {
   "cell_type": "code",
   "execution_count": 16,
   "id": "dd07413f",
   "metadata": {},
   "outputs": [
    {
     "data": {
      "text/plain": [
       "array([3.14, 3.14, 3.14], dtype=float32)"
      ]
     },
     "execution_count": 16,
     "metadata": {},
     "output_type": "execute_result"
    }
   ],
   "source": [
    "# creates np array with given dim. filled with |value|\n",
    "np.full(3, 3.14, dtype=\"float32\")"
   ]
  },
  {
   "cell_type": "code",
   "execution_count": 19,
   "id": "9ed7fa93",
   "metadata": {},
   "outputs": [
    {
     "data": {
      "text/plain": [
       "array([ 0,  4,  8, 12, 16])"
      ]
     },
     "execution_count": 19,
     "metadata": {},
     "output_type": "execute_result"
    }
   ],
   "source": [
    "# create array with linear sequence from 0 to 20 steping by 4\n",
    "np.arange(0, 20, 4)"
   ]
  },
  {
   "cell_type": "code",
   "execution_count": 21,
   "id": "d9d95716",
   "metadata": {},
   "outputs": [
    {
     "data": {
      "text/plain": [
       "array([ 1.  ,  5.75, 10.5 , 15.25, 20.  ], dtype=float32)"
      ]
     },
     "execution_count": 21,
     "metadata": {},
     "output_type": "execute_result"
    }
   ],
   "source": [
    "# creates array lineary spaced from 1 to 20 with 5 values\n",
    "np.linspace(1, 20, 5, dtype=\"float32\")"
   ]
  },
  {
   "cell_type": "code",
   "execution_count": 22,
   "id": "005a376a",
   "metadata": {},
   "outputs": [
    {
     "data": {
      "text/plain": [
       "array([[0.18915274, 0.5167096 , 0.17293167],\n",
       "       [0.68881401, 0.74741487, 0.88323804],\n",
       "       [0.2922808 , 0.96561577, 0.70440758]])"
      ]
     },
     "execution_count": 22,
     "metadata": {},
     "output_type": "execute_result"
    }
   ],
   "source": [
    "# creates a random array of uniformy value from 0 to 1\n",
    "np.random.random((3, 3))"
   ]
  },
  {
   "cell_type": "code",
   "execution_count": 34,
   "id": "c312d4ea",
   "metadata": {},
   "outputs": [
    {
     "data": {
      "text/plain": [
       "array([[10.9489777 , 10.34172162],\n",
       "       [ 9.31078181, 10.38356749]])"
      ]
     },
     "execution_count": 34,
     "metadata": {},
     "output_type": "execute_result"
    }
   ],
   "source": [
    "# creates an array with normaly distributed values with 10 mean and 1 std. dev.\n",
    "np.random.normal(10, 1, (2,2))"
   ]
  },
  {
   "cell_type": "code",
   "execution_count": 37,
   "id": "b2d034c0",
   "metadata": {},
   "outputs": [
    {
     "data": {
      "text/plain": [
       "array([[1, 6, 2],\n",
       "       [1, 9, 5],\n",
       "       [5, 0, 1]])"
      ]
     },
     "execution_count": 37,
     "metadata": {},
     "output_type": "execute_result"
    }
   ],
   "source": [
    "# creates an array with random integers in the interval [0, 10)\n",
    "np.random.randint(0, 10, (3, 3))"
   ]
  },
  {
   "cell_type": "code",
   "execution_count": 41,
   "id": "448fcb61",
   "metadata": {},
   "outputs": [
    {
     "data": {
      "text/plain": [
       "array([[1., 0., 0.],\n",
       "       [0., 1., 0.],\n",
       "       [0., 0., 1.]])"
      ]
     },
     "execution_count": 41,
     "metadata": {},
     "output_type": "execute_result"
    }
   ],
   "source": [
    "# 3x3 identity matrix \n",
    "np.eye(3)"
   ]
  },
  {
   "cell_type": "code",
   "execution_count": 43,
   "id": "40ae067b",
   "metadata": {},
   "outputs": [
    {
     "data": {
      "text/plain": [
       "array([4.64260319e-310, 0.00000000e+000, 4.64190442e-310, 4.64190447e-310,\n",
       "       1.14587773e-312, 1.90979621e-312])"
      ]
     },
     "execution_count": 43,
     "metadata": {},
     "output_type": "execute_result"
    }
   ],
   "source": [
    "# creates an uninitialized array, the values will be whatever is in memory\n",
    "np.empty(6)"
   ]
  },
  {
   "cell_type": "code",
   "execution_count": null,
   "id": "da427b9e",
   "metadata": {},
   "outputs": [],
   "source": [
    "# Numpy Atributes"
   ]
  }
 ],
 "metadata": {
  "kernelspec": {
   "display_name": "Python 3 (ipykernel)",
   "language": "python",
   "name": "python3"
  },
  "language_info": {
   "codemirror_mode": {
    "name": "ipython",
    "version": 3
   },
   "file_extension": ".py",
   "mimetype": "text/x-python",
   "name": "python",
   "nbconvert_exporter": "python",
   "pygments_lexer": "ipython3",
   "version": "3.10.10"
  }
 },
 "nbformat": 4,
 "nbformat_minor": 5
}
