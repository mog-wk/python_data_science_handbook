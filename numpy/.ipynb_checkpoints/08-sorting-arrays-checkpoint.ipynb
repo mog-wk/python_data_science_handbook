{
 "cells": [
  {
   "cell_type": "code",
   "execution_count": 1,
   "id": "3d99e600",
   "metadata": {},
   "outputs": [],
   "source": [
    "import numpy as np"
   ]
  },
  {
   "cell_type": "code",
   "execution_count": 30,
   "id": "60547cad",
   "metadata": {},
   "outputs": [
    {
     "data": {
      "text/plain": [
       "(array([ 7,  4,  1,  9,  9, 10, 11,  3, 11,  0,  8,  4,  9, 11,  0,  9]),\n",
       " array([[ 7, 10,  0,  5],\n",
       "        [11,  3,  3,  5],\n",
       "        [ 2,  1,  4,  3]]))"
      ]
     },
     "execution_count": 30,
     "metadata": {},
     "output_type": "execute_result"
    }
   ],
   "source": [
    "np.random.RandomState(42)\n",
    "X = np.random.randint(0, 12, (3, 4))\n",
    "x = np.random.randint(0, 12, 16)\n",
    "x, X"
   ]
  },
  {
   "cell_type": "code",
   "execution_count": 10,
   "id": "f2fb644d",
   "metadata": {},
   "outputs": [
    {
     "data": {
      "text/plain": [
       "array([[ 3,  4,  7, 11],\n",
       "       [ 2,  4,  5,  9],\n",
       "       [ 0,  2,  3,  6]])"
      ]
     },
     "execution_count": 10,
     "metadata": {},
     "output_type": "execute_result"
    }
   ],
   "source": [
    "# sorts all rows\n",
    "np.sort(X) # uses a n log(n) quicksort by default"
   ]
  },
  {
   "cell_type": "code",
   "execution_count": 14,
   "id": "e567fca6",
   "metadata": {},
   "outputs": [
    {
     "data": {
      "text/plain": [
       "array([[ 3,  4,  7, 11],\n",
       "       [ 2,  4,  5,  9],\n",
       "       [ 0,  2,  3,  6]])"
      ]
     },
     "execution_count": 14,
     "metadata": {},
     "output_type": "execute_result"
    }
   ],
   "source": [
    "# sorts all cols\n",
    "np.sort(X, axis=1)"
   ]
  },
  {
   "cell_type": "code",
   "execution_count": 26,
   "id": "09b32673",
   "metadata": {},
   "outputs": [
    {
     "data": {
      "text/plain": [
       "(array([4, 6, 7, 3, 1, 2, 0, 5]), array([0, 1, 1, 2, 4, 5, 7, 7]))"
      ]
     },
     "execution_count": 26,
     "metadata": {},
     "output_type": "execute_result"
    }
   ],
   "source": [
    "# returns sort index\n",
    "i = np.argsort(x)\n",
    "i, x[i]"
   ]
  },
  {
   "cell_type": "code",
   "execution_count": 33,
   "id": "9bd1888f",
   "metadata": {},
   "outputs": [
    {
     "data": {
      "text/plain": [
       "array([ 0,  0,  1,  3,  4,  4,  7, 11, 11, 10,  8,  9,  9, 11,  9,  9])"
      ]
     },
     "execution_count": 33,
     "metadata": {},
     "output_type": "execute_result"
    }
   ],
   "source": [
    "# partial sort \n",
    "k = 4\n",
    "p = np.partition(x, k) # returns a partitions fo the sorted array up to 'k'\n",
    "p"
   ]
  },
  {
   "cell_type": "code",
   "execution_count": 34,
   "id": "06188759",
   "metadata": {},
   "outputs": [
    {
     "data": {
      "text/plain": [
       "array([14,  9,  2,  7, 11,  1,  0,  6,  8,  5, 10,  4, 12, 13,  3, 15])"
      ]
     },
     "execution_count": 34,
     "metadata": {},
     "output_type": "execute_result"
    }
   ],
   "source": [
    "np.argpartition(x, 4) # same as np.partition but returns indexes of original array"
   ]
  },
  {
   "cell_type": "code",
   "execution_count": 103,
   "id": "98456601",
   "metadata": {},
   "outputs": [
    {
     "data": {
      "text/plain": [
       "0.6994288730390432"
      ]
     },
     "execution_count": 103,
     "metadata": {},
     "output_type": "execute_result"
    }
   ],
   "source": [
    "# k-nearest neighbors\n",
    "sample = np.random.rand(10, 2)\n",
    "sample[8, 1]"
   ]
  },
  {
   "cell_type": "code",
   "execution_count": 66,
   "id": "0aa68b23",
   "metadata": {
    "scrolled": true
   },
   "outputs": [
    {
     "data": {
      "text/plain": [
       "array([[0.        , 0.17890438, 0.25315321, 0.20301621, 0.03005431,\n",
       "        0.8171248 , 0.24885414, 0.35467464, 0.13459656, 0.48621261],\n",
       "       [0.17890438, 0.        , 0.57090577, 0.72426807, 0.08279586,\n",
       "        0.92954718, 0.84252027, 0.34317613, 0.1523987 , 0.67597531],\n",
       "       [0.25315321, 0.57090577, 0.        , 0.13489184, 0.41624022,\n",
       "        0.23946178, 0.25354409, 0.15722538, 0.1519824 , 0.07197687],\n",
       "       [0.20301621, 0.72426807, 0.13489184, 0.        , 0.38879779,\n",
       "        0.72698228, 0.01858234, 0.52142412, 0.36752281, 0.40263647],\n",
       "       [0.03005431, 0.08279586, 0.41624022, 0.38879779, 0.        ,\n",
       "        0.98292367, 0.44141573, 0.4150597 , 0.16327691, 0.64333443],\n",
       "       [0.8171248 , 0.92954718, 0.23946178, 0.72698228, 0.98292367,\n",
       "        0.        , 0.97734502, 0.14336582, 0.35702439, 0.049712  ],\n",
       "       [0.24885414, 0.84252027, 0.25354409, 0.01858234, 0.44141573,\n",
       "        0.97734502, 0.        , 0.72278475, 0.51249786, 0.59419975],\n",
       "       [0.35467464, 0.34317613, 0.15722538, 0.52142412, 0.4150597 ,\n",
       "        0.14336582, 0.72278475, 0.        , 0.05774906, 0.0778595 ],\n",
       "       [0.13459656, 0.1523987 , 0.1519824 , 0.36752281, 0.16327691,\n",
       "        0.35702439, 0.51249786, 0.05774906, 0.        , 0.18846843],\n",
       "       [0.48621261, 0.67597531, 0.07197687, 0.40263647, 0.64333443,\n",
       "        0.049712  , 0.59419975, 0.0778595 , 0.18846843, 0.        ]])"
      ]
     },
     "execution_count": 66,
     "metadata": {},
     "output_type": "execute_result"
    }
   ],
   "source": [
    "a = sample[:, np.newaxis, :]\n",
    "b = sample[np.newaxis, :, :]\n",
    "d = a - b\n",
    "sq_dist = d ** 2\n",
    "dist_list = sq_dist.sum(-1)\n",
    "dist_list"
   ]
  },
  {
   "cell_type": "code",
   "execution_count": 67,
   "id": "e7124ebd",
   "metadata": {},
   "outputs": [
    {
     "data": {
      "text/plain": [
       "array([[0, 4, 8, 1, 3, 6, 2, 7, 9, 5],\n",
       "       [1, 4, 8, 0, 7, 2, 9, 3, 6, 5],\n",
       "       [2, 9, 3, 8, 7, 5, 0, 6, 4, 1],\n",
       "       [3, 6, 2, 0, 8, 4, 9, 7, 1, 5],\n",
       "       [4, 0, 1, 8, 3, 7, 2, 6, 9, 5],\n",
       "       [5, 9, 7, 2, 8, 3, 0, 1, 6, 4],\n",
       "       [6, 3, 0, 2, 4, 8, 9, 7, 1, 5],\n",
       "       [7, 8, 9, 5, 2, 1, 0, 4, 3, 6],\n",
       "       [8, 7, 0, 2, 1, 4, 9, 5, 3, 6],\n",
       "       [9, 5, 2, 7, 8, 3, 0, 6, 4, 1]])"
      ]
     },
     "execution_count": 67,
     "metadata": {},
     "output_type": "execute_result"
    }
   ],
   "source": [
    "np.argsort(dist_list) # all neighbors in order"
   ]
  },
  {
   "cell_type": "code",
   "execution_count": 95,
   "id": "3108ab07",
   "metadata": {
    "scrolled": true
   },
   "outputs": [
    {
     "data": {
      "text/plain": [
       "array([[0, 4, 8, 3, 1, 5, 6, 7, 2, 9],\n",
       "       [1, 4, 8, 3, 0, 5, 6, 7, 2, 9],\n",
       "       [2, 9, 3, 0, 4, 5, 6, 7, 8, 1],\n",
       "       [3, 6, 2, 0, 4, 5, 1, 7, 8, 9],\n",
       "       [4, 0, 1, 3, 2, 5, 6, 7, 8, 9],\n",
       "       [5, 9, 7, 3, 4, 0, 6, 2, 8, 1],\n",
       "       [6, 3, 0, 1, 4, 5, 2, 7, 8, 9],\n",
       "       [7, 8, 9, 3, 4, 5, 6, 0, 1, 2],\n",
       "       [8, 7, 0, 3, 4, 5, 6, 1, 2, 9],\n",
       "       [9, 5, 2, 3, 4, 1, 6, 7, 8, 0]])"
      ]
     },
     "execution_count": 95,
     "metadata": {},
     "output_type": "execute_result"
    }
   ],
   "source": [
    "k = 1\n",
    "nearest_partition = np.argpartition(dist_list, k+1, axis=1)\n",
    "nearest_partition"
   ]
  },
  {
   "cell_type": "code",
   "execution_count": 107,
   "id": "40193410",
   "metadata": {
    "scrolled": true
   },
   "outputs": [
    {
     "data": {
      "image/png": "[encoded data removed]",
      "text/plain": [
       "<Figure size 640x480 with 1 Axes>"
      ]
     },
     "metadata": {},
     "output_type": "display_data"
    }
   ],
   "source": [
    "%matplotlib inline\n",
    "import matplotlib.pyplot as plt\n",
    "plt.scatter(sample[:, 0], sample[:, 1], s=100)\n",
    "\n",
    "for i in range(sample.shape[0]):\n",
    "    for j in nearest_partition[i, :k+1]:\n",
    "        plt.plot(*zip(sample[j], sample[i]), color=\"black\")"
   ]
  }
 ],
 "metadata": {
  "kernelspec": {
   "display_name": "Python 3 (ipykernel)",
   "language": "python",
   "name": "python3"
  },
  "language_info": {
   "codemirror_mode": {
    "name": "ipython",
    "version": 3
   },
   "file_extension": ".py",
   "mimetype": "text/x-python",
   "name": "python",
   "nbconvert_exporter": "python",
   "pygments_lexer": "ipython3",
   "version": "3.10.10"
  }
 },
 "nbformat": 4,
 "nbformat_minor": 5
}
