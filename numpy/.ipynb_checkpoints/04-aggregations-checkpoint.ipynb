{
 "cells": [
  {
   "cell_type": "code",
   "execution_count": 2,
   "id": "fab15dde",
   "metadata": {},
   "outputs": [],
   "source": [
    "import numpy as np"
   ]
  },
  {
   "cell_type": "code",
   "execution_count": 6,
   "id": "70f44fcd",
   "metadata": {},
   "outputs": [
    {
     "data": {
      "text/plain": [
       "(array([1, 2, 3, 4, 5, 6, 7, 8, 9]),\n",
       " 45,\n",
       " 362880,\n",
       " array([ 1,  3,  6, 10, 15, 21, 28, 36, 45]),\n",
       " array([     1,      2,      6,     24,    120,    720,   5040,  40320,\n",
       "        362880]))"
      ]
     },
     "execution_count": 6,
     "metadata": {},
     "output_type": "execute_result"
    }
   ],
   "source": [
    "x = np.arange(1, 10)\n",
    "add_reduce = np.add.reduce(x) # sum of all elements\n",
    "mult_reduce = np.multiply.reduce(x) # product of all elements\n",
    "add_acc = np.add.accumulate(x) \n",
    "mult_acc = np.multiply.accumulate(x)\n",
    "\n",
    "x, add_reduce, mult_reduce, add_acc, mult_acc"
   ]
  },
  {
   "cell_type": "code",
   "execution_count": 5,
   "id": "6440ae01",
   "metadata": {},
   "outputs": [
    {
     "data": {
      "text/plain": [
       "array([     1,      2,      6,     24,    120,    720,   5040,  40320,\n",
       "       362880])"
      ]
     },
     "execution_count": 5,
     "metadata": {},
     "output_type": "execute_result"
    }
   ],
   "source": [
    "np.multiply.accumulate(np.arange(1, 10, 1)) # returns factorial of each index"
   ]
  },
  {
   "cell_type": "code",
   "execution_count": 8,
   "id": "583d8e80",
   "metadata": {},
   "outputs": [
    {
     "data": {
      "text/plain": [
       "array([[  1,   2,   3,   4,   5,   6,   7,   8,   9,  10],\n",
       "       [  2,   4,   6,   8,  10,  12,  14,  16,  18,  20],\n",
       "       [  3,   6,   9,  12,  15,  18,  21,  24,  27,  30],\n",
       "       [  4,   8,  12,  16,  20,  24,  28,  32,  36,  40],\n",
       "       [  5,  10,  15,  20,  25,  30,  35,  40,  45,  50],\n",
       "       [  6,  12,  18,  24,  30,  36,  42,  48,  54,  60],\n",
       "       [  7,  14,  21,  28,  35,  42,  49,  56,  63,  70],\n",
       "       [  8,  16,  24,  32,  40,  48,  56,  64,  72,  80],\n",
       "       [  9,  18,  27,  36,  45,  54,  63,  72,  81,  90],\n",
       "       [ 10,  20,  30,  40,  50,  60,  70,  80,  90, 100]])"
      ]
     },
     "execution_count": 8,
     "metadata": {},
     "output_type": "execute_result"
    }
   ],
   "source": [
    "# outer products\n",
    "x = np.arange(1, 11)\n",
    "np.multiply.outer(x, x) # multiplication table"
   ]
  },
  {
   "cell_type": "code",
   "execution_count": null,
   "id": "ab243ccb",
   "metadata": {},
   "outputs": [],
   "source": [
    "L = np.random.random(1_000_000)"
   ]
  },
  {
   "cell_type": "code",
   "execution_count": null,
   "id": "e8773d0f",
   "metadata": {},
   "outputs": [],
   "source": [
    "%timeit sum(L)\n",
    "%timeit np.sum(L)"
   ]
  },
  {
   "cell_type": "code",
   "execution_count": null,
   "id": "0ad4b490",
   "metadata": {},
   "outputs": [],
   "source": [
    "%timeit max(L)\n",
    "%timeit np.max(L)"
   ]
  },
  {
   "cell_type": "code",
   "execution_count": null,
   "id": "328a929a",
   "metadata": {},
   "outputs": [],
   "source": [
    "np.min(L), np.max(L)"
   ]
  },
  {
   "cell_type": "code",
   "execution_count": 9,
   "id": "b70fd35e",
   "metadata": {
    "scrolled": true
   },
   "outputs": [
    {
     "ename": "NameError",
     "evalue": "name 'L' is not defined",
     "output_type": "error",
     "traceback": [
      "\u001b[0;31m---------------------------------------------------------------------------\u001b[0m",
      "\u001b[0;31mNameError\u001b[0m                                 Traceback (most recent call last)",
      "Cell \u001b[0;32mIn[9], line 1\u001b[0m\n\u001b[0;32m----> 1\u001b[0m \u001b[43mL\u001b[49m\u001b[38;5;241m.\u001b[39mmin(), L\u001b[38;5;241m.\u001b[39mmax() \u001b[38;5;66;03m# alias to above\u001b[39;00m\n",
      "\u001b[0;31mNameError\u001b[0m: name 'L' is not defined"
     ]
    }
   ],
   "source": [
    "L.min(), L.max() # alias to above"
   ]
  },
  {
   "cell_type": "code",
   "execution_count": null,
   "id": "c8774d3b",
   "metadata": {},
   "outputs": [],
   "source": [
    "M = np.random.random((4, 4))\n",
    "M.sum() # agregates thought intire array"
   ]
  },
  {
   "cell_type": "code",
   "execution_count": null,
   "id": "9976e2e3",
   "metadata": {},
   "outputs": [],
   "source": [
    "res = [\n",
    "    np.sum(M, axis=0), # sum of all cols\n",
    "    np.max(M, axis=1), # max of all rows\n",
    "    M.min(),\n",
    "]\n",
    "print(M)\n",
    "print([r for r in res], sep='\\n')"
   ]
  },
  {
   "cell_type": "code",
   "execution_count": 12,
   "id": "2cb9008c",
   "metadata": {},
   "outputs": [
    {
     "name": "stdout",
     "output_type": "stream",
     "text": [
      "x     = [0 1 2 3 4 5 6 7 8 9]\n",
      "x.max = 9\n",
      "x.min = 0\n",
      "x.prod = 0\n",
      "x.mean = 4.5\n",
      "x.std  = 2.8722813232690143\n",
      "x.var  = 8.25\n",
      "x.median = 4.5\n",
      "x.percentile 25 = 2.25\n"
     ]
    }
   ],
   "source": [
    "x = np.arange(10)\n",
    "print(\"x     =\", x)\n",
    "print(\"x.max =\", x.max())\n",
    "print(\"x.min =\", x.min())\n",
    "print(\"x.prod =\", x.prod())\n",
    "print(\"x.mean =\", x.mean())\n",
    "print(\"x.std  =\", x.std())\n",
    "print(\"x.var  =\", x.var())\n",
    "print(\"x.median =\", np.median(x))\n",
    "print(\"x.percentile 25 =\", np.percentile(x, 25))"
   ]
  }
 ],
 "metadata": {
  "kernelspec": {
   "display_name": "Python 3 (ipykernel)",
   "language": "python",
   "name": "python3"
  },
  "language_info": {
   "codemirror_mode": {
    "name": "ipython",
    "version": 3
   },
   "file_extension": ".py",
   "mimetype": "text/x-python",
   "name": "python",
   "nbconvert_exporter": "python",
   "pygments_lexer": "ipython3",
   "version": "3.10.10"
  }
 },
 "nbformat": 4,
 "nbformat_minor": 5
}
