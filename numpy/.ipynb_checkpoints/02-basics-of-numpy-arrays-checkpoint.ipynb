{
 "cells": [
  {
   "cell_type": "code",
   "execution_count": 2,
   "id": "21b3ddf7",
   "metadata": {},
   "outputs": [],
   "source": [
    "import numpy as np"
   ]
  },
  {
   "cell_type": "code",
   "execution_count": 3,
   "id": "85170fe4",
   "metadata": {},
   "outputs": [],
   "source": [
    "# basics of numpy arrays"
   ]
  },
  {
   "cell_type": "code",
   "execution_count": 4,
   "id": "3e446026",
   "metadata": {},
   "outputs": [],
   "source": [
    "np.random.seed(0) # seed for reprudutivety"
   ]
  },
  {
   "cell_type": "code",
   "execution_count": 5,
   "id": "d7f06067",
   "metadata": {},
   "outputs": [],
   "source": [
    "x1 = np.random.randint(0, 10, 6)"
   ]
  },
  {
   "cell_type": "code",
   "execution_count": 6,
   "id": "fadb180e",
   "metadata": {},
   "outputs": [],
   "source": [
    "x2 = np.random.randint(0, 10, (3, 4))"
   ]
  },
  {
   "cell_type": "code",
   "execution_count": 7,
   "id": "9f53e820",
   "metadata": {},
   "outputs": [],
   "source": [
    "x3 = np.random.randint(0, 10, (3, 4, 5))"
   ]
  },
  {
   "cell_type": "code",
   "execution_count": 21,
   "id": "721927f0",
   "metadata": {},
   "outputs": [],
   "source": [
    "arr_list = [x1, x2, x3]"
   ]
  },
  {
   "cell_type": "code",
   "execution_count": 9,
   "id": "32773231",
   "metadata": {},
   "outputs": [
    {
     "name": "stdout",
     "output_type": "stream",
     "text": [
      "format methods:\t | 1 | (6,) | 6\n",
      "type of array elements:\t | int64\n",
      "storege size methods:\t | 8 | 48\n",
      "format methods:\t | 2 | (3, 4) | 12\n",
      "type of array elements:\t | int64\n",
      "storege size methods:\t | 8 | 96\n",
      "format methods:\t | 3 | (3, 4, 5) | 60\n",
      "type of array elements:\t | int64\n",
      "storege size methods:\t | 8 | 480\n"
     ]
    }
   ],
   "source": [
    "# array atributes\n",
    "for arr in arr_list:\n",
    "    # prints: number of dimentions; shape; number of elements(total length)\n",
    "    print(\"format methods:\\t\", arr.ndim, arr.shape, arr.size, sep=' | ')\n",
    "    # prints data type of array\n",
    "    print(\"type of array elements:\\t\", arr.dtype, sep=' | ')\n",
    "    # prints size of elements in bytes; total size of array in bytes\n",
    "    print(\"storege size methods:\\t\", arr.itemsize, arr.nbytes, sep=' | ')"
   ]
  },
  {
   "cell_type": "code",
   "execution_count": 10,
   "id": "ed45057c",
   "metadata": {},
   "outputs": [
    {
     "data": {
      "text/plain": [
       "array([0, 3])"
      ]
     },
     "execution_count": 10,
     "metadata": {},
     "output_type": "execute_result"
    }
   ],
   "source": [
    "# array indexing\n",
    "x1 # array([5, 0, 3, 3, 7, 9])\n",
    "x1[-1] # 9\n",
    "x1[0] # 5\n",
    "x1[1:3] # array([0, 3])"
   ]
  },
  {
   "cell_type": "code",
   "execution_count": 11,
   "id": "7c112089",
   "metadata": {},
   "outputs": [
    {
     "data": {
      "text/plain": [
       "8"
      ]
     },
     "execution_count": 11,
     "metadata": {},
     "output_type": "execute_result"
    }
   ],
   "source": [
    "# 2d indexing\n",
    "x2[1, 2] # 8\n",
    "x2[1][2] # 8"
   ]
  },
  {
   "cell_type": "code",
   "execution_count": 12,
   "id": "d9cfdbf4",
   "metadata": {},
   "outputs": [
    {
     "data": {
      "text/plain": [
       "12"
      ]
     },
     "execution_count": 12,
     "metadata": {},
     "output_type": "execute_result"
    }
   ],
   "source": [
    "# modification\n",
    "x2[1, 2] = 12\n",
    "x2[1, 2] # 12"
   ]
  },
  {
   "cell_type": "code",
   "execution_count": 13,
   "id": "ff8749ef",
   "metadata": {
    "scrolled": true
   },
   "outputs": [
    {
     "data": {
      "text/plain": [
       "array([3, 3, 2, 4])"
      ]
     },
     "execution_count": 13,
     "metadata": {},
     "output_type": "execute_result"
    }
   ],
   "source": [
    "x2[0, 1] = 3.14\n",
    "x2[0]"
   ]
  },
  {
   "cell_type": "code",
   "execution_count": 14,
   "id": "4a15a830",
   "metadata": {
    "scrolled": true
   },
   "outputs": [
    {
     "data": {
      "text/plain": [
       "array([0, 1, 2, 3, 4, 5, 6, 7, 8, 9])"
      ]
     },
     "execution_count": 14,
     "metadata": {},
     "output_type": "execute_result"
    }
   ],
   "source": [
    "# slicing\n",
    "x_r = np.arange(10)\n",
    "x_r"
   ]
  },
  {
   "cell_type": "code",
   "execution_count": 15,
   "id": "49b8e495",
   "metadata": {},
   "outputs": [
    {
     "data": {
      "text/plain": [
       "array([1, 2, 3, 4, 5, 6, 7, 8, 9])"
      ]
     },
     "execution_count": 15,
     "metadata": {},
     "output_type": "execute_result"
    }
   ],
   "source": [
    "x_r[1:3] # [1, 2]\n",
    "x_r[6:] # [6, 7, 8, 9]\n",
    "x_r[:3] # [0, 1, 2]\n",
    "x_r[::2] # [0, 2, 4, 6, 8]\n",
    "x_r[1::2] # [1, 3, 5, 7, 9]\n",
    "x_r[5:-1] # [5, 6, 7]\n",
    "x_r[::-1] # reversed array\n",
    "x_r[1:15] # does not check array length; prints whole array"
   ]
  },
  {
   "cell_type": "code",
   "execution_count": 16,
   "id": "2cbc0aab",
   "metadata": {},
   "outputs": [
    {
     "data": {
      "text/plain": [
       "array([[ 3,  3,  2,  4],\n",
       "       [ 7,  6, 12,  8],\n",
       "       [ 1,  6,  7,  7]])"
      ]
     },
     "execution_count": 16,
     "metadata": {},
     "output_type": "execute_result"
    }
   ],
   "source": [
    "x2"
   ]
  },
  {
   "cell_type": "code",
   "execution_count": 17,
   "id": "7bf4839f",
   "metadata": {
    "scrolled": true
   },
   "outputs": [
    {
     "data": {
      "text/plain": [
       "array([[ 6, 12],\n",
       "       [ 6,  7]])"
      ]
     },
     "execution_count": 17,
     "metadata": {},
     "output_type": "execute_result"
    }
   ],
   "source": [
    "x2[1:, 1:3] # view"
   ]
  },
  {
   "cell_type": "code",
   "execution_count": 20,
   "id": "82c2e1af",
   "metadata": {
    "scrolled": true
   },
   "outputs": [
    {
     "data": {
      "text/plain": [
       "array([[2, 4]])"
      ]
     },
     "execution_count": 20,
     "metadata": {},
     "output_type": "execute_result"
    }
   ],
   "source": [
    "xII = x2[:1, 2:4].copy() #copy\n",
    "xII"
   ]
  },
  {
   "cell_type": "code",
   "execution_count": 32,
   "id": "7e54f372",
   "metadata": {
    "scrolled": true
   },
   "outputs": [
    {
     "data": {
      "text/plain": [
       "array([[2],\n",
       "       [4]])"
      ]
     },
     "execution_count": 32,
     "metadata": {},
     "output_type": "execute_result"
    }
   ],
   "source": [
    "# reshaping\n",
    "xII.reshape((2, 1))"
   ]
  },
  {
   "cell_type": "code",
   "execution_count": 40,
   "id": "d32e2f0e",
   "metadata": {},
   "outputs": [
    {
     "data": {
      "text/plain": [
       "array([5, 0, 3, 3, 7, 9])"
      ]
     },
     "execution_count": 40,
     "metadata": {},
     "output_type": "execute_result"
    }
   ],
   "source": [
    "# concatenation\n",
    "np.concatenate([x1, [6, 5, 4, 3]])"
   ]
  },
  {
   "cell_type": "code",
   "execution_count": 63,
   "id": "6080db3e",
   "metadata": {
    "scrolled": true
   },
   "outputs": [],
   "source": [
    "grid1 = np.array([[1, 2, 3], [4, 5, 6]])\n",
    "grid2 = np.array([[5, 5, 5], [5, 5, 5]])\n",
    "grid3 = np.array([[1, 2], [5,4]])"
   ]
  },
  {
   "cell_type": "code",
   "execution_count": 60,
   "id": "01346c96",
   "metadata": {},
   "outputs": [
    {
     "data": {
      "text/plain": [
       "array([[1, 2, 3],\n",
       "       [4, 5, 6],\n",
       "       [5, 5, 5],\n",
       "       [5, 5, 5]])"
      ]
     },
     "execution_count": 60,
     "metadata": {},
     "output_type": "execute_result"
    }
   ],
   "source": [
    "np.concatenate([grid1, grid2])"
   ]
  },
  {
   "cell_type": "code",
   "execution_count": 66,
   "id": "1b29f249",
   "metadata": {},
   "outputs": [
    {
     "data": {
      "text/plain": [
       "array([[1, 2, 3],\n",
       "       [4, 5, 6],\n",
       "       [5, 5, 5],\n",
       "       [5, 5, 5]])"
      ]
     },
     "execution_count": 66,
     "metadata": {},
     "output_type": "execute_result"
    }
   ],
   "source": [
    "np.vstack([grid1, grid2]) # requeres same num of cols"
   ]
  },
  {
   "cell_type": "code",
   "execution_count": 64,
   "id": "58407de8",
   "metadata": {},
   "outputs": [
    {
     "data": {
      "text/plain": [
       "array([[1, 2, 3, 1, 2],\n",
       "       [4, 5, 6, 5, 4]])"
      ]
     },
     "execution_count": 64,
     "metadata": {},
     "output_type": "execute_result"
    }
   ],
   "source": [
    "np.hstack([grid1, grid2]) # requires same num of rows\n",
    "np.hstack([grid1, grid3])"
   ]
  },
  {
   "cell_type": "code",
   "execution_count": 68,
   "id": "69d3700f",
   "metadata": {},
   "outputs": [
    {
     "data": {
      "text/plain": [
       "array([ 0,  1,  2,  3,  4,  5,  6,  7,  8,  9, 10, 11, 12, 13, 14, 15, 16,\n",
       "       17, 18, 19])"
      ]
     },
     "execution_count": 68,
     "metadata": {},
     "output_type": "execute_result"
    }
   ],
   "source": [
    "# splitting\n",
    "big_arr = np.arange(0, 20, 1)\n",
    "big_arr"
   ]
  },
  {
   "cell_type": "code",
   "execution_count": 70,
   "id": "cd2d4e4a",
   "metadata": {},
   "outputs": [],
   "source": [
    "a1, a2, a3 = np.split(big_arr, [5, 9])"
   ]
  },
  {
   "cell_type": "code",
   "execution_count": 72,
   "id": "b9023096",
   "metadata": {
    "scrolled": true
   },
   "outputs": [
    {
     "name": "stdout",
     "output_type": "stream",
     "text": [
      "[0 1 2 3 4] [5 6 7 8] [ 9 10 11 12 13 14 15 16 17 18 19]\n"
     ]
    }
   ],
   "source": [
    "print(a1, a2, a3)"
   ]
  },
  {
   "cell_type": "code",
   "execution_count": 74,
   "id": "b5f2346a",
   "metadata": {},
   "outputs": [
    {
     "data": {
      "text/plain": [
       "array([[ 0,  1,  2,  3,  4],\n",
       "       [ 5,  6,  7,  8,  9],\n",
       "       [10, 11, 12, 13, 14],\n",
       "       [15, 16, 17, 18, 19]])"
      ]
     },
     "execution_count": 74,
     "metadata": {},
     "output_type": "execute_result"
    }
   ],
   "source": [
    "big_2d_arr = np.arange(0, 20, 1).reshape((4, 5))\n",
    "big_2d_arr"
   ]
  },
  {
   "cell_type": "code",
   "execution_count": 90,
   "id": "e6c84515",
   "metadata": {},
   "outputs": [
    {
     "name": "stdout",
     "output_type": "stream",
     "text": [
      "[[0 1 2 3 4]\n",
      " [5 6 7 8 9]]\n",
      "\n",
      "[[10 11 12 13 14]\n",
      " [15 16 17 18 19]]\n"
     ]
    }
   ],
   "source": [
    "upper, lower = np.vsplit(big_2d_arr, [2])\n",
    "print(upper, lower, sep='\\n\\n')"
   ]
  },
  {
   "cell_type": "code",
   "execution_count": 91,
   "id": "8a302f0f",
   "metadata": {},
   "outputs": [
    {
     "name": "stdout",
     "output_type": "stream",
     "text": [
      "[[0 1]\n",
      " [5 6]]\n",
      "\n",
      "[[2 3]\n",
      " [7 8]]\n",
      "\n",
      "[[4]\n",
      " [9]]\n"
     ]
    }
   ],
   "source": [
    "left, mid, right = np.hsplit(upper, [2, 4])\n",
    "print(left, mid, right, sep='\\n\\n')"
   ]
  },
  {
   "cell_type": "code",
   "execution_count": 95,
   "id": "50f9de22",
   "metadata": {},
   "outputs": [
    {
     "data": {
      "text/plain": [
       "[array([[0, 1, 2, 3, 4],\n",
       "        [5, 6, 7, 8, 9]]),\n",
       " array([[10, 11, 12, 13, 14]]),\n",
       " array([[15, 16, 17, 18, 19]])]"
      ]
     },
     "execution_count": 95,
     "metadata": {},
     "output_type": "execute_result"
    }
   ],
   "source": [
    "np.split(big_2d_arr, [2, 3])"
   ]
  }
 ],
 "metadata": {
  "kernelspec": {
   "display_name": "Python 3 (ipykernel)",
   "language": "python",
   "name": "python3"
  },
  "language_info": {
   "codemirror_mode": {
    "name": "ipython",
    "version": 3
   },
   "file_extension": ".py",
   "mimetype": "text/x-python",
   "name": "python",
   "nbconvert_exporter": "python",
   "pygments_lexer": "ipython3",
   "version": "3.10.10"
  }
 },
 "nbformat": 4,
 "nbformat_minor": 5
}
