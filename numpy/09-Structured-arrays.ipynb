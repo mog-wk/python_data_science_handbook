{
 "cells": [
  {
   "cell_type": "code",
   "execution_count": 1,
   "id": "7fa481fe",
   "metadata": {},
   "outputs": [],
   "source": [
    "import numpy as np\n",
    "import matplotlib.pyplot as plt"
   ]
  },
  {
   "cell_type": "code",
   "execution_count": 7,
   "id": "e652ca2b",
   "metadata": {},
   "outputs": [],
   "source": [
    "name = [\"Alice\", \"Bob\", \"John\", \"Corinthias\", \"Doug\"]\n",
    "age = [31, 56, 23, 10, 89]\n",
    "weight = [55.0, 89.0, 60.0, 75.0, 68.0]"
   ]
  },
  {
   "cell_type": "code",
   "execution_count": 10,
   "id": "b19758c5",
   "metadata": {},
   "outputs": [
    {
     "data": {
      "text/plain": [
       "array([('', 0, 0.), ('', 0, 0.), ('', 0, 0.), ('', 0, 0.), ('', 0, 0.)],\n",
       "      dtype=[('name', '<U10'), ('age', '<i4'), ('weight', '<f8')])"
      ]
     },
     "execution_count": 10,
     "metadata": {},
     "output_type": "execute_result"
    }
   ],
   "source": [
    "compound_arr = np.zeros(5, dtype={'names': ('name', 'age', 'weight'), 'formats': ('U10', 'i4', 'f8')})\n",
    "compound_arr"
   ]
  },
  {
   "cell_type": "code",
   "execution_count": 11,
   "id": "d4d98c77",
   "metadata": {},
   "outputs": [
    {
     "data": {
      "text/plain": [
       "array([('Alice', 31, 55.), ('Bob', 56, 89.), ('John', 23, 60.),\n",
       "       ('Corinthias', 10, 75.), ('Doug', 89, 68.)],\n",
       "      dtype=[('name', '<U10'), ('age', '<i4'), ('weight', '<f8')])"
      ]
     },
     "execution_count": 11,
     "metadata": {},
     "output_type": "execute_result"
    }
   ],
   "source": [
    "compound_arr['name'] = name\n",
    "compound_arr['age'] = age\n",
    "compound_arr['weight'] = weight\n",
    "compound_arr"
   ]
  },
  {
   "cell_type": "code",
   "execution_count": 18,
   "id": "a6f82de4",
   "metadata": {},
   "outputs": [
    {
     "data": {
      "text/plain": [
       "(array(['Alice', 'Bob', 'John', 'Corinthias', 'Doug'], dtype='<U10'),\n",
       " ('Alice', 31, 55.),\n",
       " 'Doug',\n",
       " array(['Alice', 'Bob', 'Doug'], dtype='<U10'))"
      ]
     },
     "execution_count": 18,
     "metadata": {},
     "output_type": "execute_result"
    }
   ],
   "source": [
    "compound_arr['name'], compound_arr[0], compound_arr[-1][\"name\"], compound_arr[compound_arr[\"age\"] > 25][\"name\"]"
   ]
  }
 ],
 "metadata": {
  "kernelspec": {
   "display_name": "Python 3 (ipykernel)",
   "language": "python",
   "name": "python3"
  },
  "language_info": {
   "codemirror_mode": {
    "name": "ipython",
    "version": 3
   },
   "file_extension": ".py",
   "mimetype": "text/x-python",
   "name": "python",
   "nbconvert_exporter": "python",
   "pygments_lexer": "ipython3",
   "version": "3.10.10"
  }
 },
 "nbformat": 4,
 "nbformat_minor": 5
}
