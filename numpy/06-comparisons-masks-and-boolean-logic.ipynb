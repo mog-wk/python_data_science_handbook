{
 "cells": [
  {
   "cell_type": "code",
   "execution_count": 1,
   "id": "d6c7c582",
   "metadata": {},
   "outputs": [],
   "source": [
    "import numpy as np"
   ]
  },
  {
   "cell_type": "code",
   "execution_count": 3,
   "id": "1243709d",
   "metadata": {},
   "outputs": [
    {
     "data": {
      "text/plain": [
       "array([1, 2, 3, 4, 5])"
      ]
     },
     "execution_count": 3,
     "metadata": {},
     "output_type": "execute_result"
    }
   ],
   "source": [
    "# masks\n",
    "x = np.array([1, 2, 3, 4, 5])\n",
    "x"
   ]
  },
  {
   "cell_type": "code",
   "execution_count": 12,
   "id": "d31de000",
   "metadata": {
    "scrolled": true
   },
   "outputs": [
    {
     "data": {
      "text/plain": [
       "(array([1, 2, 3, 4, 5]),\n",
       " array([ True,  True, False, False, False]),\n",
       " array([False, False, False,  True,  True]),\n",
       " array([False, False,  True, False, False]),\n",
       " array([ True,  True, False,  True,  True]))"
      ]
     },
     "execution_count": 12,
     "metadata": {},
     "output_type": "execute_result"
    }
   ],
   "source": [
    "# array to num comparison\n",
    "x, x < 3, x > 3, x == 3, x != 3"
   ]
  },
  {
   "cell_type": "code",
   "execution_count": 34,
   "id": "97f43658",
   "metadata": {},
   "outputs": [
    {
     "name": "stdout",
     "output_type": "stream",
     "text": [
      "x:     [1 2 3 4 5]\n",
      "y:     [5 4 3 2 1]\n",
      "x == y [False False  True False False]\n",
      "x != y [ True  True False  True  True]\n",
      "x  > y [False False False  True  True]\n",
      "x >= y [False False  True  True  True]\n",
      "x  < y [ True  True False False False]\n",
      "x <= y [ True  True  True False False]\n"
     ]
    }
   ],
   "source": [
    "# ufunc alias\n",
    "\n",
    "print(f\"x:     {x}\\ny:     {y}\")\n",
    "print(\"x == y\", np.equal(x, y))\n",
    "print(\"x != y\", np.not_equal(x, y))\n",
    "print(\"x  > y\", np.greater(x, y))\n",
    "print(\"x >= y\", np.greater_equal(x, y))\n",
    "print(\"x  < y\", np.less(x, y))\n",
    "print(\"x <= y\", np.less_equal(x, y))"
   ]
  },
  {
   "cell_type": "code",
   "execution_count": 15,
   "id": "917c33d3",
   "metadata": {},
   "outputs": [
    {
     "data": {
      "text/plain": [
       "(array([False, False,  True, False, False]),\n",
       " array([False, False, False,  True,  True]),\n",
       " array([ True,  True,  True, False, False]))"
      ]
     },
     "execution_count": 15,
     "metadata": {},
     "output_type": "execute_result"
    }
   ],
   "source": [
    "# array to array comparison\n",
    " # compares element of y by element of x\n",
    "y = np.array([5, 4, 3, 2, 1])\n",
    "x == y, x > y, x <= y"
   ]
  },
  {
   "cell_type": "code",
   "execution_count": 22,
   "id": "38143272",
   "metadata": {},
   "outputs": [
    {
     "name": "stdout",
     "output_type": "stream",
     "text": [
      "operands could not be broadcast together with shapes (5,) (6,) \n"
     ]
    },
    {
     "data": {
      "text/plain": [
       "(array([1, 2, 3, 4, 5]),\n",
       " array([1, 2, 3, 4, 5, 6]),\n",
       " array([False, False, False, False, False]))"
      ]
     },
     "execution_count": 22,
     "metadata": {},
     "output_type": "execute_result"
    }
   ],
   "source": [
    "# array comparisons must have the same shape\n",
    "z = np.arange(1, 7, 1) # [1, 2, 3, 4, 5, 6]\n",
    "try:\n",
    "    x > z\n",
    "except ValueError as e:\n",
    "    print(e)\n",
    "x, z, x > z[:-1]"
   ]
  },
  {
   "cell_type": "code",
   "execution_count": 37,
   "id": "c929207b",
   "metadata": {},
   "outputs": [
    {
     "data": {
      "text/plain": [
       "array([[5, 0, 3, 3],\n",
       "       [7, 9, 3, 5],\n",
       "       [2, 4, 7, 6]])"
      ]
     },
     "execution_count": 37,
     "metadata": {},
     "output_type": "execute_result"
    }
   ],
   "source": [
    "# working with masks/boolean arrays\n",
    "np.random.seed(0)\n",
    "X = np.random.randint(0, 10, (3, 4))\n",
    "X "
   ]
  },
  {
   "cell_type": "code",
   "execution_count": 46,
   "id": "b975b1ad",
   "metadata": {},
   "outputs": [
    {
     "data": {
      "text/plain": [
       "8"
      ]
     },
     "execution_count": 46,
     "metadata": {},
     "output_type": "execute_result"
    }
   ],
   "source": [
    "np.sum(X < 6) # alias of below\n",
    "np.count_nonzero(X < 6) # returns quantity of values less than \"6\"; zero/false values in the mask"
   ]
  },
  {
   "cell_type": "code",
   "execution_count": 50,
   "id": "299c61f8",
   "metadata": {},
   "outputs": [
    {
     "data": {
      "text/plain": [
       "(array([2, 2, 2, 2]), array([4, 2, 2]))"
      ]
     },
     "execution_count": 50,
     "metadata": {},
     "output_type": "execute_result"
    }
   ],
   "source": [
    "# counts true values by col; by row\n",
    "np.sum(X < 6, axis=0), np.sum(X < 6, axis=1)"
   ]
  },
  {
   "cell_type": "code",
   "execution_count": 58,
   "id": "21909239",
   "metadata": {},
   "outputs": [
    {
     "data": {
      "text/plain": [
       "(True,\n",
       " True,\n",
       " False,\n",
       " array([ True, False, False]),\n",
       " array([False, False, False, False]))"
      ]
     },
     "execution_count": 58,
     "metadata": {},
     "output_type": "execute_result"
    }
   ],
   "source": [
    "np.any(X == 6), np.all(X[0, :] < 6), np.any(X[:2, :2] > 11), np.all(X < 6, axis=1), np.any(X == 1, axis=0)"
   ]
  },
  {
   "cell_type": "code",
   "execution_count": 63,
   "id": "12e88ebc",
   "metadata": {},
   "outputs": [
    {
     "data": {
      "text/plain": [
       "(array([0, 3, 3, 3, 2, 4]),\n",
       " array([[5, 0, 3, 3],\n",
       "        [7, 9, 3, 5],\n",
       "        [2, 4, 7, 6]]))"
      ]
     },
     "execution_count": 63,
     "metadata": {},
     "output_type": "execute_result"
    }
   ],
   "source": [
    "# boolean arrays as masks\n",
    "X[X < 5] # all values that pass condiction"
   ]
  },
  {
   "cell_type": "code",
   "execution_count": 71,
   "id": "45412a60",
   "metadata": {},
   "outputs": [
    {
     "data": {
      "text/plain": [
       "(array([False,  True, False,  True,  True, False]),\n",
       " array([ True, False, False, False,  True,  True]),\n",
       " array([ True,  True, False,  True,  True,  True]),\n",
       " array([False, False, False, False,  True, False]),\n",
       " array([ True,  True, False,  True, False,  True]),\n",
       " array([False,  True,  True,  True, False, False]))"
      ]
     },
     "execution_count": 71,
     "metadata": {},
     "output_type": "execute_result"
    }
   ],
   "source": [
    "# bitwise operators\n",
    "A = np.array([0, 1, 0, 1, 1, 0], dtype=bool)\n",
    "B = np.array([1, 0, 0, 0, 1, 1], dtype=bool)\n",
    "A, B, A|B, A&B, A^B, ~B"
   ]
  }
 ],
 "metadata": {
  "kernelspec": {
   "display_name": "Python 3 (ipykernel)",
   "language": "python",
   "name": "python3"
  },
  "language_info": {
   "codemirror_mode": {
    "name": "ipython",
    "version": 3
   },
   "file_extension": ".py",
   "mimetype": "text/x-python",
   "name": "python",
   "nbconvert_exporter": "python",
   "pygments_lexer": "ipython3",
   "version": "3.10.10"
  }
 },
 "nbformat": 4,
 "nbformat_minor": 5
}
