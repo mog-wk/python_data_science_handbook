{
 "cells": [
  {
   "cell_type": "code",
   "execution_count": 1,
   "id": "78bba809",
   "metadata": {},
   "outputs": [],
   "source": [
    "import numpy as np"
   ]
  },
  {
   "cell_type": "code",
   "execution_count": 2,
   "id": "f79c9d2d",
   "metadata": {},
   "outputs": [],
   "source": [
    "np.random.seed(4)"
   ]
  },
  {
   "cell_type": "code",
   "execution_count": 3,
   "id": "d9f600bd",
   "metadata": {},
   "outputs": [],
   "source": [
    "def compute_reciprocals(values):\n",
    "    '''takes an array and returns the inverse of its values'''\n",
    "    output = np.empty(len(values))\n",
    "    for i in range(len(values)):\n",
    "        output[i] = 1.0 / values[i]\n",
    "    return output"
   ]
  },
  {
   "cell_type": "code",
   "execution_count": 4,
   "id": "49e32599",
   "metadata": {},
   "outputs": [],
   "source": [
    "values = np.random.randint(1, 10, size=5)"
   ]
  },
  {
   "cell_type": "code",
   "execution_count": 5,
   "id": "2068fa4b",
   "metadata": {
    "scrolled": true
   },
   "outputs": [
    {
     "name": "stdout",
     "output_type": "stream",
     "text": [
      "12.1 µs ± 330 ns per loop (mean ± std. dev. of 7 runs, 100,000 loops each)\n"
     ]
    }
   ],
   "source": [
    "%timeit compute_reciprocals(values)"
   ]
  },
  {
   "cell_type": "code",
   "execution_count": 6,
   "id": "511f8136",
   "metadata": {},
   "outputs": [],
   "source": [
    "big_arr = np.random.randint(1, 100, size=100_000)"
   ]
  },
  {
   "cell_type": "code",
   "execution_count": 7,
   "id": "2d0e1165",
   "metadata": {
    "scrolled": true
   },
   "outputs": [
    {
     "name": "stdout",
     "output_type": "stream",
     "text": [
      "233 ms ± 17.6 ms per loop (mean ± std. dev. of 7 runs, 1 loop each)\n"
     ]
    }
   ],
   "source": [
    "%timeit compute_reciprocals(big_arr)"
   ]
  },
  {
   "cell_type": "code",
   "execution_count": 8,
   "id": "a3933792",
   "metadata": {},
   "outputs": [
    {
     "data": {
      "text/plain": [
       "array([0.125     , 0.16666667, 0.5       , 0.11111111, 0.125     ])"
      ]
     },
     "execution_count": 8,
     "metadata": {},
     "output_type": "execute_result"
    }
   ],
   "source": [
    "# iter function\n",
    "compute_reciprocals(values)"
   ]
  },
  {
   "cell_type": "code",
   "execution_count": 9,
   "id": "28937a22",
   "metadata": {},
   "outputs": [
    {
     "data": {
      "text/plain": [
       "array([0.125     , 0.16666667, 0.5       , 0.11111111, 0.125     ])"
      ]
     },
     "execution_count": 9,
     "metadata": {},
     "output_type": "execute_result"
    }
   ],
   "source": [
    "# ufuncs\n",
    "1.0 / values"
   ]
  },
  {
   "cell_type": "code",
   "execution_count": 10,
   "id": "412f7860",
   "metadata": {},
   "outputs": [
    {
     "name": "stdout",
     "output_type": "stream",
     "text": [
      "238 µs ± 13.2 µs per loop (mean ± std. dev. of 7 runs, 1,000 loops each)\n"
     ]
    }
   ],
   "source": [
    "%timeit 1.0/big_arr"
   ]
  },
  {
   "cell_type": "code",
   "execution_count": 11,
   "id": "748ff9fa",
   "metadata": {},
   "outputs": [
    {
     "data": {
      "text/plain": [
       "array([[     0,      1,     16,     81,    256],\n",
       "       [   625,   1296,   2401,   4096,   6561],\n",
       "       [ 10000,  14641,  20736,  28561,  38416],\n",
       "       [ 50625,  65536,  83521, 104976, 130321],\n",
       "       [160000, 194481, 234256, 279841, 331776]])"
      ]
     },
     "execution_count": 11,
     "metadata": {},
     "output_type": "execute_result"
    }
   ],
   "source": [
    "np.arange(0, 25, 1).reshape((5, 5)) ** 4"
   ]
  },
  {
   "cell_type": "code",
   "execution_count": 12,
   "id": "d8b326ef",
   "metadata": {},
   "outputs": [
    {
     "name": "stdout",
     "output_type": "stream",
     "text": [
      "x     = [0 1 2 3]\n",
      "x + 5 = [5 6 7 8]\n",
      "x - 5 = [-5 -4 -3 -2]\n",
      "x * 2 = [0 2 4 6]\n",
      "x / 2 = [0.  0.5 1.  1.5]\n",
      "x // 2= [0 0 1 1]\n",
      "x ** 4= [ 0  1 16 81]\n",
      "x % 2 = [0 1 2 0]\n",
      "-x    = [ 0 -1 -2 -3]\n"
     ]
    }
   ],
   "source": [
    "# array arithmetic\n",
    "x = np.arange(4)\n",
    "print(\"x     =\", x)\n",
    "print(\"x + 5 =\", x+5)  # np.add\n",
    "print(\"x - 5 =\", x-5)  # np.subtract\n",
    "print(\"x * 2 =\", x*2)  # np.multiply\n",
    "print(\"x / 2 =\", x/2)  # np.divide\n",
    "print(\"x // 2=\", x//2) # np.floor_divide\n",
    "print(\"x ** 4=\", x**4) # np.power\n",
    "print(\"x % 2 =\", x%3)  # np.mod\n",
    "print(\"-x    =\", -x)   # np.negative"
   ]
  },
  {
   "cell_type": "code",
   "execution_count": 13,
   "id": "590d00b3",
   "metadata": {},
   "outputs": [
    {
     "data": {
      "text/plain": [
       "array([0, 1, 2, 3])"
      ]
     },
     "execution_count": 13,
     "metadata": {},
     "output_type": "execute_result"
    }
   ],
   "source": [
    "abs(-x) # absolute value"
   ]
  },
  {
   "cell_type": "code",
   "execution_count": 14,
   "id": "bc844b94",
   "metadata": {},
   "outputs": [
    {
     "name": "stdout",
     "output_type": "stream",
     "text": [
      "theta = [0.         1.57079633 3.14159265]\n",
      "sin   = [0.0000000e+00 1.0000000e+00 1.2246468e-16]\n",
      "cos   = [ 1.000000e+00  6.123234e-17 -1.000000e+00]\n",
      "tan   = [ 0.00000000e+00  1.63312394e+16 -1.22464680e-16]\n"
     ]
    }
   ],
   "source": [
    "# trigonometric functions\n",
    "theta = np.linspace(0, np.pi, 3)\n",
    "print(\"theta =\", theta)\n",
    "print(\"sin   =\", np.sin(theta))\n",
    "print(\"cos   =\", np.cos(theta))\n",
    "print(\"tan   =\", np.tan(theta))\n"
   ]
  },
  {
   "cell_type": "code",
   "execution_count": 15,
   "id": "313437a0",
   "metadata": {
    "scrolled": true
   },
   "outputs": [
    {
     "name": "stdout",
     "output_type": "stream",
     "text": [
      "x      = ['-1      ', '0      ', '1      ']\n",
      "sin    = [-0.84147098  0.          0.84147098]\n",
      "cos    = [0.54030231 1.         0.54030231]\n",
      "tan    = [-1.55740772  0.          1.55740772]\n",
      "arcsin = [-1.57079633  0.          1.57079633]\n",
      "arccos = [3.14159265 1.57079633 0.        ]\n",
      "arctan = [-0.78539816  0.          0.78539816]\n"
     ]
    }
   ],
   "source": [
    "# inverse trigonometry\n",
    "x = [-1, 0, 1]\n",
    "\n",
    "print(\"x      =\", [str(i) + '      ' for i in x])\n",
    "\n",
    "print(\"sin    =\", np.sin(x))\n",
    "print(\"cos    =\", np.cos(x))\n",
    "print(\"tan    =\", np.tan(x))\n",
    "\n",
    "print(\"arcsin =\", np.arcsin(x)) # arcsin\n",
    "print(\"arccos =\", np.arccos(x)) # arccos\n",
    "print(\"arctan =\", np.arctan(x)) # arctan\n"
   ]
  },
  {
   "cell_type": "code",
   "execution_count": 16,
   "id": "08fea32f",
   "metadata": {
    "scrolled": true
   },
   "outputs": [
    {
     "name": "stdout",
     "output_type": "stream",
     "text": [
      "x    = ['1 ', '2 ', '3 ', '4 ', '10 ']\n",
      "e^x  = [ 2.71828183  7.3890561  20.08553692] ...\n",
      "2^x  = [   2.    4.    8.   16. 1024.]\n",
      "n^x  = [    1    16    81   256 10000]\n",
      "x**3 = [   1    8   27   64 1000]\n",
      "3**x = [    3     9    27    81 59049]\n",
      "log x   = [0.         0.69314718 1.09861229 1.38629436 2.30258509]\n",
      "log2 x  = [0.         1.         1.5849625  2.         3.32192809]\n",
      "log10 x = [0.         0.30103    0.47712125 0.60205999 1.        ]\n"
     ]
    }
   ],
   "source": [
    "# expoents and logarithms\n",
    "x = np.array([1, 2, 3, 4, 10])\n",
    "\n",
    "print(\"x    =\", [str(i) + ' ' for i in x])\n",
    "print(\"e^x  =\", np.exp(x[:3]), \"...\") # e => euler's constant ~ 2.71\n",
    "print(\"2^x  =\", np.exp2(x))\n",
    "print(\"n^x  =\", np.power(x, 4))\n",
    "print(\"x**3 =\", x**3)\n",
    "print(\"3**x =\", 3**x)\n",
    "\n",
    "print(\"log x   =\", np.log(x))   # natural logarithm (euler's as base)\n",
    "print(\"log2 x  =\", np.log2(x))  # log 2\n",
    "print(\"log10 x =\", np.log10(x)) # log 10"
   ]
  },
  {
   "cell_type": "code",
   "execution_count": 30,
   "id": "61175657",
   "metadata": {},
   "outputs": [
    {
     "data": {
      "text/plain": [
       "array([10., 20., 30., 40., 50., 60., 70., 80., 90.])"
      ]
     },
     "execution_count": 30,
     "metadata": {},
     "output_type": "execute_result"
    }
   ],
   "source": [
    "# advenced ufuncs features ...\n",
    "x = np.arange(1, 10)\n",
    "y = np.empty(9)\n",
    "np.multiply(x, 10, out=y) # specifiing output to save processing in allocation; use for large data"
   ]
  }
 ],
 "metadata": {
  "kernelspec": {
   "display_name": "Python 3 (ipykernel)",
   "language": "python",
   "name": "python3"
  },
  "language_info": {
   "codemirror_mode": {
    "name": "ipython",
    "version": 3
   },
   "file_extension": ".py",
   "mimetype": "text/x-python",
   "name": "python",
   "nbconvert_exporter": "python",
   "pygments_lexer": "ipython3",
   "version": "3.10.10"
  }
 },
 "nbformat": 4,
 "nbformat_minor": 5
}
